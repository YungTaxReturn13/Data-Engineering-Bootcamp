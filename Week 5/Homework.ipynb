{
 "cells": [
  {
   "cell_type": "code",
   "execution_count": 1,
   "id": "279c21f2-5bf7-4d14-9836-d1098c03a198",
   "metadata": {},
   "outputs": [],
   "source": [
    "import pyspark\n",
    "from pyspark.sql import SparkSession\n",
    "import pandas as pd "
   ]
  },
  {
   "cell_type": "code",
   "execution_count": 2,
   "id": "09753c62-b1fe-41af-8335-07672ae08b67",
   "metadata": {},
   "outputs": [],
   "source": [
    "spark = SparkSession.builder \\\n",
    "    .master(\"local[*]\") \\\n",
    "    .appName('test') \\\n",
    "    .getOrCreate()"
   ]
  },
  {
   "cell_type": "markdown",
   "id": "8a3b90ac-22c4-4e53-a4e3-8049805dcca7",
   "metadata": {},
   "source": [
    "Question 1"
   ]
  },
  {
   "cell_type": "code",
   "execution_count": 3,
   "id": "0155bf03-bc50-4a2d-bae8-10e5db0c6a94",
   "metadata": {},
   "outputs": [
    {
     "data": {
      "text/plain": [
       "'3.2.1'"
      ]
     },
     "execution_count": 3,
     "metadata": {},
     "output_type": "execute_result"
    }
   ],
   "source": [
    "spark.version"
   ]
  },
  {
   "cell_type": "markdown",
   "id": "ef96bb12-7fb2-42d3-a69f-bd9650da965f",
   "metadata": {},
   "source": [
    "Question 2"
   ]
  },
  {
   "cell_type": "code",
   "execution_count": 4,
   "id": "1eacb023-dafd-4562-ba01-9283dc86a5c6",
   "metadata": {},
   "outputs": [
    {
     "name": "stdout",
     "output_type": "stream",
     "text": [
      "  % Total    % Received % Xferd  Average Speed   Time    Time     Time  Current\n",
      "                                 Dload  Upload   Total   Spent    Left  Speed\n",
      "100  699M  100  699M    0     0  3387k      0  0:03:31  0:03:31 --:--:-- 2944k      0  0:03:09  0:00:20  0:02:49 3704k   0  0:03:16  0:01:19  0:01:57 3199k   0  3608k      0  0:03:18  0:01:30  0:01:48 3349k  3597k      0  0:03:19  0:01:34  0:01:45 3355k0  3579k      0  0:03:20  0:01:43  0:01:37 3387k  3504k      0  0:03:24  0:02:15  0:01:09 3321k502k      0  0:03:24  0:02:17  0:01:07 3321k  0  0:03:25  0:02:24  0:01:01 3317k     0  0:03:26  0:02:35  0:00:51 3304k 3444k      0  0:03:28  0:02:52  0:00:36 3369k0  3433k      0  0:03:28  0:02:58  0:00:30 3328k  0     0  3400k      0  0:03:30  0:03:21  0:00:09 3219k      0  0:03:30  0:03:27  0:00:03 3311k      0  0:03:31  0:03:31 --:--:-- 2885k\n"
     ]
    }
   ],
   "source": [
    "!curl -o fhvhv_tripdata_2021-02.csv https://nyc-tlc.s3.amazonaws.com/trip+data/fhvhv_tripdata_2021-02.csv"
   ]
  },
  {
   "cell_type": "code",
   "execution_count": 5,
   "id": "96073caa-b6f4-4c39-92fe-0804c1a216d6",
   "metadata": {},
   "outputs": [],
   "source": [
    "pd_df = pd.read_csv('fhvhv_tripdata_2021-02.csv', nrows = 100)"
   ]
  },
  {
   "cell_type": "code",
   "execution_count": 6,
   "id": "0d765fa5-c9d2-4391-8a40-4959a1436985",
   "metadata": {},
   "outputs": [
    {
     "data": {
      "text/plain": [
       "StructType(List(StructField(hvfhs_license_num,StringType,true),StructField(dispatching_base_num,StringType,true),StructField(pickup_datetime,StringType,true),StructField(dropoff_datetime,StringType,true),StructField(PULocationID,LongType,true),StructField(DOLocationID,LongType,true),StructField(SR_Flag,DoubleType,true)))"
      ]
     },
     "execution_count": 6,
     "metadata": {},
     "output_type": "execute_result"
    }
   ],
   "source": [
    "spark.createDataFrame(pd_df).schema"
   ]
  },
  {
   "cell_type": "code",
   "execution_count": 7,
   "id": "997d80f5-a100-41fd-ac45-a0c83a151d11",
   "metadata": {},
   "outputs": [],
   "source": [
    "from pyspark.sql import types"
   ]
  },
  {
   "cell_type": "code",
   "execution_count": 8,
   "id": "8369e36f-cde9-45f7-8b77-ee991372a65a",
   "metadata": {},
   "outputs": [],
   "source": [
    "schema = types.StructType([\n",
    "    types.StructField(\"hvfhs_license_num\",types.StringType(),True),\n",
    "    types.StructField(\"dispatching_base_num\",types.StringType(),True),\n",
    "    types.StructField(\"pickup_datetime\",types.TimestampType(),True),\n",
    "    types.StructField(\"dropoff_datetime\",types.TimestampType(),True),\n",
    "    types.StructField(\"PULocationID\",types.IntegerType(),True),\n",
    "    types.StructField(\"DOLocationID\",types.IntegerType(),True),\n",
    "    types.StructField(\"SR_Flag\",types.StringType(),True)\n",
    "])"
   ]
  },
  {
   "cell_type": "code",
   "execution_count": 9,
   "id": "b53cbea5-f8e6-4ae1-9bec-c39941ca9808",
   "metadata": {},
   "outputs": [],
   "source": [
    "df = spark.read\\\n",
    "    .option(\"header\",\"true\")\\\n",
    "    .schema(schema)\\\n",
    "    .csv('fhvhv_tripdata_2021-02.csv')"
   ]
  },
  {
   "cell_type": "code",
   "execution_count": 11,
   "id": "d76396b1-e8d4-4a17-85bd-46fc118f858e",
   "metadata": {},
   "outputs": [],
   "source": [
    "df.repartition(24).write.parquet('parquet/',mode='overwrite')"
   ]
  },
  {
   "cell_type": "markdown",
   "id": "93617082-5d9a-418c-b74c-e775bbbf3731",
   "metadata": {},
   "source": [
    "231.2 MB"
   ]
  },
  {
   "cell_type": "markdown",
   "id": "fa7df8c8-353c-4ad8-b43f-a273cc0578e1",
   "metadata": {},
   "source": [
    "question 3 \n"
   ]
  },
  {
   "cell_type": "code",
   "execution_count": 27,
   "id": "6c313ecf-298c-4942-85d2-3618b70e08eb",
   "metadata": {},
   "outputs": [],
   "source": [
    "df = spark.read.parquet('parquet/')"
   ]
  },
  {
   "cell_type": "code",
   "execution_count": 28,
   "id": "203e8a92-4f87-4977-982d-6517a40df893",
   "metadata": {},
   "outputs": [],
   "source": [
    "from pyspark.sql import functions as F"
   ]
  },
  {
   "cell_type": "code",
   "execution_count": 29,
   "id": "1d6d5d11-d0f9-4bb5-b3f7-96b5a140eb00",
   "metadata": {
    "tags": []
   },
   "outputs": [],
   "source": [
    "df = df.withColumn('date', F.to_date(df.pickup_datetime))"
   ]
  },
  {
   "cell_type": "code",
   "execution_count": 43,
   "id": "e5a5de7f-c33c-4ade-ae73-bbeba1694dcb",
   "metadata": {},
   "outputs": [],
   "source": [
    "df.createOrReplaceTempView('homework_data')"
   ]
  },
  {
   "cell_type": "code",
   "execution_count": 32,
   "id": "83ca03e3-d35b-487e-bd27-c119077e3078",
   "metadata": {},
   "outputs": [
    {
     "name": "stdout",
     "output_type": "stream",
     "text": [
      "+--------+\n",
      "|count(1)|\n",
      "+--------+\n",
      "|  367170|\n",
      "+--------+\n",
      "\n"
     ]
    }
   ],
   "source": [
    "spark.sql(\"\"\"\n",
    "SELECT COUNT(*) FROM homework_data WHERE date = \"2021-02-15\";\n",
    "\"\"\").show()"
   ]
  },
  {
   "cell_type": "markdown",
   "id": "74ec3de0-0412-43b3-94a6-91079e30d85d",
   "metadata": {},
   "source": [
    "question 4"
   ]
  },
  {
   "cell_type": "code",
   "execution_count": 22,
   "id": "cc7ade12-10ab-4651-98bc-ce160e0303a5",
   "metadata": {},
   "outputs": [],
   "source": [
    "from pyspark.sql import functions as F"
   ]
  },
  {
   "cell_type": "code",
   "execution_count": 42,
   "id": "040b1154-d206-4438-97a6-331fe27222fc",
   "metadata": {},
   "outputs": [],
   "source": [
    "df = df.withColumn('time_difference', df.dropoff_datetime.cast(\"long\") - df.pickup_datetime.cast(\"long\"))"
   ]
  },
  {
   "cell_type": "code",
   "execution_count": 49,
   "id": "c485e67e-45ac-4fd2-ba5d-f46e2c3d4da3",
   "metadata": {},
   "outputs": [
    {
     "name": "stdout",
     "output_type": "stream",
     "text": [
      "+----------+\n",
      "|      date|\n",
      "+----------+\n",
      "|2021-02-11|\n",
      "+----------+\n",
      "\n"
     ]
    }
   ],
   "source": [
    "spark.sql(\"\"\"\n",
    "\n",
    "SELECT \n",
    "    date\n",
    "FROM\n",
    "    homework_data\n",
    "WHERE\n",
    "    time_difference = (SELECT \n",
    "            MAX(time_difference)\n",
    "        FROM\n",
    "            homework_data)\n",
    "LIMIT 1;\n",
    "\"\"\").show()"
   ]
  },
  {
   "cell_type": "markdown",
   "id": "e106d771-c54d-4eea-8911-bcf45d1c4c56",
   "metadata": {},
   "source": [
    "question 5"
   ]
  },
  {
   "cell_type": "code",
   "execution_count": 37,
   "id": "89914d96-484d-458b-9e5b-94e7bc4fb6b7",
   "metadata": {},
   "outputs": [
    {
     "name": "stdout",
     "output_type": "stream",
     "text": [
      "+--------------------+-------+\n",
      "|dispatching_base_num|  count|\n",
      "+--------------------+-------+\n",
      "|              B02510|3233664|\n",
      "|              B02764| 965568|\n",
      "|              B02872| 882689|\n",
      "|              B02875| 685390|\n",
      "|              B02765| 559768|\n",
      "|              B02869| 429720|\n",
      "|              B02887| 322331|\n",
      "|              B02871| 312364|\n",
      "|              B02864| 311603|\n",
      "|              B02866| 311089|\n",
      "|              B02878| 305185|\n",
      "|              B02682| 303255|\n",
      "|              B02617| 274510|\n",
      "|              B02883| 251617|\n",
      "|              B02884| 244963|\n",
      "|              B02882| 232173|\n",
      "|              B02876| 215693|\n",
      "|              B02879| 210137|\n",
      "|              B02867| 200530|\n",
      "|              B02877| 198938|\n",
      "+--------------------+-------+\n",
      "only showing top 20 rows\n",
      "\n"
     ]
    }
   ],
   "source": [
    "df.groupby('dispatching_base_num').count().sort('count', ascending=False).show()"
   ]
  },
  {
   "cell_type": "markdown",
   "id": "7da90d60-5e5b-457c-8442-06d00a90c52e",
   "metadata": {},
   "source": [
    "question 6"
   ]
  },
  {
   "cell_type": "code",
   "execution_count": 52,
   "id": "4f58a181-26bb-4b34-95d9-d257fdaa4453",
   "metadata": {},
   "outputs": [],
   "source": [
    "df_locations = df\\\n",
    "    .withColumn('concat', F.concat_ws('-',df.PULocationID, df.DOLocationID))"
   ]
  },
  {
   "cell_type": "code",
   "execution_count": 54,
   "id": "cb96c349-e74f-4517-b2d8-6e9198819d09",
   "metadata": {},
   "outputs": [
    {
     "name": "stdout",
     "output_type": "stream",
     "text": [
      "+-------+-----+\n",
      "| concat|count|\n",
      "+-------+-----+\n",
      "|  76-76|45041|\n",
      "|  26-26|37329|\n",
      "|  39-39|28026|\n",
      "|  61-61|25976|\n",
      "|  14-14|17934|\n",
      "|129-129|14688|\n",
      "|    7-7|14688|\n",
      "|  42-42|14481|\n",
      "|  37-37|14424|\n",
      "|  89-89|13976|\n",
      "|216-216|13716|\n",
      "|  35-35|12829|\n",
      "|132-265|12542|\n",
      "| 188-61|11814|\n",
      "|  95-95|11548|\n",
      "|  36-37|11491|\n",
      "|  37-36|11487|\n",
      "| 61-188|11462|\n",
      "| 61-225|11342|\n",
      "|188-188|11308|\n",
      "+-------+-----+\n",
      "only showing top 20 rows\n",
      "\n"
     ]
    }
   ],
   "source": [
    "df_locations.groupby('concat').count().sort('count', ascending=False).show()"
   ]
  },
  {
   "cell_type": "code",
   "execution_count": null,
   "id": "56be7e41-6925-4e65-8e32-b04599d0e2ce",
   "metadata": {},
   "outputs": [],
   "source": []
  }
 ],
 "metadata": {
  "kernelspec": {
   "display_name": "Python 3",
   "language": "python",
   "name": "python3"
  },
  "language_info": {
   "codemirror_mode": {
    "name": "ipython",
    "version": 3
   },
   "file_extension": ".py",
   "mimetype": "text/x-python",
   "name": "python",
   "nbconvert_exporter": "python",
   "pygments_lexer": "ipython3",
   "version": "3.8.8"
  }
 },
 "nbformat": 4,
 "nbformat_minor": 5
}
